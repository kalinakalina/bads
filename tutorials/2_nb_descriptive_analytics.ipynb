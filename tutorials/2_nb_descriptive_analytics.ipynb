{
 "cells": [
  {
   "cell_type": "markdown",
   "metadata": {
    "id": "_55XGJ5Krxox"
   },
   "source": [
    "# Chapter 3 - Foundations of descriptive analytics\n",
    "The third lecture has offered an overview of the field of descriptive analytics. Out of the space of methods for descriptive analytics, the lecture concentrated on techniques for cluster analysis. Given this focus in the lecture, the tutorial will revisit the **kMeans** algorithm and deepen our understanding how this algorithm segments a given data set. This will also help us to introduce some more Python functionality and further develop our understanding of Python programming and relevant libraries. \n",
    "\n",
    "Here is the outline of the tutorial:\n",
    "*   Generating data for cluster analysis \n",
    "*   kMeans Algorithm from Scratch\n",
    "*   kMeans Algorithm from SK Learn\n",
    "*   Finding Optimal K"
   ]
  },
  {
   "cell_type": "markdown",
   "metadata": {
    "id": "o-wD7vGxHFa5"
   },
   "source": [
    "## Review of Cluster Analysis\n",
    "\n",
    "Cluster analysis is a good example of unsupervised machine learning or machine learning with unlabelled data (no specified target variable). Algorithms in this type of analysis attempt to group observations based on their similarities in features. In the end, we can try to describe clusters and how they differ from one another.\n",
    "\n",
    "An example of this application could be analysing data from a survey. We may have several distinct groups of potential buyers who reveal distinct preferences through their choices. Cluster analysis can be applied based on their choices to group similar responses and we can then charaterise groups to determine marketing efforts."
   ]
  },
  {
   "cell_type": "markdown",
   "metadata": {
    "id": "dRPjqtQpHhBr"
   },
   "source": [
    "## kMeans\n",
    "\n",
    "kMeans belongs to the family of <em>non-hierarchical</em> cluster analysis methods. Random centroids are spread through the data, then the nearest points to that centroid are assigned to it. The centroids are recalculated based on the new assignment and the observations are reassigned to the nearest point. This process repeats itself until it is stable. Results may differ based on the initial random selection of centroids, so it is important to run this process multiple times and calculate the iteration which results in the smallest distance.\n",
    "\n",
    "The difference between hierarchical and non-hierarchical clustering algorithms is the way clusters are calculated. While hierarchical clustering often creates sequential splits which maximize homogeneity within final clusters, non-hierarchical clustering with kMeans places random centroids around the feature space and assigns observations to those centroids. In this way, we cannot draw any sort of sequential splits in kMeans."
   ]
  },
  {
   "cell_type": "markdown",
   "metadata": {
    "id": "d8BjFh5UsQel"
   },
   "source": [
    "# Data Generation for Cluster Analysis\n",
    "\n",
    "In order to verify that this method of analysis works, we can generate data using sklearn. The function `make_classification()` alows us to create a dataset with all kinds of characteristics. We can create clusters of observations using this function which we can then use to test algorithm on. \n",
    "\n",
    "The documentation for this function can be found here: https://scikit-learn.org/stable/modules/generated/sklearn.datasets.make_classification.html ."
   ]
  },
  {
   "cell_type": "code",
   "execution_count": 1,
   "metadata": {
    "id": "whNm-Zlud3WV"
   },
   "outputs": [],
   "source": [
    "import numpy as np\n",
    "import matplotlib.pyplot as plt\n",
    "import pandas as pd\n",
    "from sklearn.datasets import make_classification\n",
    "\n",
    "np.random.seed(10)"
   ]
  },
  {
   "cell_type": "code",
   "execution_count": 2,
   "metadata": {
    "id": "A_daZwJTuzrj"
   },
   "outputs": [],
   "source": [
    "X,y = make_classification(n_samples=4000, n_classes=2, n_informative=6, n_features=10, class_sep=1, random_state=10) # by default includes: n_features=20, n_informative=2, n_redundant=2, n_classes=2, n_clusters_per_class=2..."
   ]
  },
  {
   "cell_type": "code",
   "execution_count": 3,
   "metadata": {
    "colab": {
     "base_uri": "https://localhost:8080/",
     "height": 185
    },
    "id": "y6-pFsiVvMxI",
    "outputId": "240d2304-2e01-41bd-8980-c9cc921507dd"
   },
   "outputs": [
    {
     "data": {
      "text/plain": [
       "array([[-4.30778937, -1.28869187, -0.35637871,  0.48165849, -3.19737508,\n",
       "        -0.04615532,  1.6824544 , -1.15632338, -1.43637121, -0.94263771],\n",
       "       [-0.54520231,  2.25726399, -0.34972219,  0.32523467,  2.36463896,\n",
       "         0.29267071, -1.21030002, -0.88382567,  0.17194531, -1.27435624],\n",
       "       [-0.40072828,  0.27721173, -0.95901262,  2.94866352,  0.98100489,\n",
       "        -0.90198437, -1.49048888, -0.48884261, -0.21942839, -0.56479294],\n",
       "       [-3.22770543,  0.51913726, -1.5962249 ,  0.69406228, -1.15333002,\n",
       "         0.48902447, -0.72067066, -1.04316157,  0.55876656, -2.59544712],\n",
       "       [-0.93038371, -0.19298958,  1.08334749,  1.55908282, -1.66985171,\n",
       "        -0.13627538,  2.75135259,  1.3690085 , -1.01539634, -0.72006729]])"
      ]
     },
     "execution_count": 3,
     "metadata": {
      "tags": []
     },
     "output_type": "execute_result"
    }
   ],
   "source": [
    "X[:5] # since it is a NumPy array, use slicing to inspect instead of .head() as we would for a pandas DataFrame"
   ]
  },
  {
   "cell_type": "code",
   "execution_count": 4,
   "metadata": {
    "colab": {
     "base_uri": "https://localhost:8080/",
     "height": 34
    },
    "id": "rvHcRZSMQixu",
    "outputId": "f96d4245-f24d-4d10-e1c2-eb8a98aa4661"
   },
   "outputs": [
    {
     "data": {
      "text/plain": [
       "array([0, 1, 1, 1, 0])"
      ]
     },
     "execution_count": 4,
     "metadata": {
      "tags": []
     },
     "output_type": "execute_result"
    }
   ],
   "source": [
    "y[:5] # true labels for the dataset"
   ]
  },
  {
   "cell_type": "code",
   "execution_count": 5,
   "metadata": {
    "colab": {
     "base_uri": "https://localhost:8080/",
     "height": 50
    },
    "id": "Ytt_jOhfM8JB",
    "outputId": "a5b643e3-8d7f-444f-d776-5d2991e727f2"
   },
   "outputs": [
    {
     "data": {
      "text/plain": [
       "array([-2.7637565 ,  1.01778884, -0.96834637,  0.0042941 ,  0.07002857,\n",
       "        0.01149626, -0.10031453, -0.99873303, -1.00062247, -0.96549505])"
      ]
     },
     "execution_count": 5,
     "metadata": {
      "tags": []
     },
     "output_type": "execute_result"
    }
   ],
   "source": [
    "np.mean(X[y == 1], axis=0) # there are two groups based on y values, here are the mean values for each feature for y=1"
   ]
  },
  {
   "cell_type": "code",
   "execution_count": 6,
   "metadata": {
    "colab": {
     "base_uri": "https://localhost:8080/",
     "height": 50
    },
    "id": "UCd4IrioNTg4",
    "outputId": "70fadc69-7515-427a-af8e-deb5281edb0c"
   },
   "outputs": [
    {
     "data": {
      "text/plain": [
       "array([-0.96067228, -1.00887301,  0.02061757,  0.00838744, -0.98777441,\n",
       "        0.00551366,  0.54939346, -0.01933266, -1.02545028, -0.01695516])"
      ]
     },
     "execution_count": 6,
     "metadata": {
      "tags": []
     },
     "output_type": "execute_result"
    }
   ],
   "source": [
    "np.mean(X[y == 0], axis=0) # here are the mean values for each feature for y=0"
   ]
  },
  {
   "cell_type": "code",
   "execution_count": 7,
   "metadata": {
    "colab": {
     "base_uri": "https://localhost:8080/",
     "height": 34
    },
    "id": "cBv9f-9zvNsK",
    "outputId": "c933db7e-4493-4292-f464-441109b302a3"
   },
   "outputs": [
    {
     "data": {
      "text/plain": [
       "(4000, 10)"
      ]
     },
     "execution_count": 7,
     "metadata": {
      "tags": []
     },
     "output_type": "execute_result"
    }
   ],
   "source": [
    "X.shape # ensure shape is as expected"
   ]
  },
  {
   "cell_type": "markdown",
   "metadata": {
    "id": "Bdho4OZir6O7"
   },
   "source": [
    "# The kMeans algorithm from Scratch\n",
    "The kMeans algorithm is an established and widely used method for clustering. Much more sophisticated algorithms exist, many of which are readily available in Python libraries. However, it is good practice to start simple. For the purpose of BADS, knowing kMeans and what clustering in general can do for us is enough. "
   ]
  },
  {
   "cell_type": "code",
   "execution_count": 8,
   "metadata": {
    "id": "6UrZO-nPd4zW"
   },
   "outputs": [],
   "source": [
    "def euclidean_distance(a, b):\n",
    "    return np.sqrt(np.sum((a - b)**2)) # other distance measures also possible"
   ]
  },
  {
   "cell_type": "code",
   "execution_count": 9,
   "metadata": {
    "id": "798DJYmzc7tQ"
   },
   "outputs": [],
   "source": [
    "def label_cluster(n_samples, clusters):\n",
    "    \"\"\"each sample will get the label of the cluster it was assigned to\"\"\"\n",
    "    labels = np.empty(n_samples) # creates empty array as long as samples for future labels\n",
    "\n",
    "    for cluster_idx, cluster in enumerate(clusters):\n",
    "        for sample_index in cluster:\n",
    "            labels[sample_index] = cluster_idx # assign labels to each sample\n",
    "    return labels"
   ]
  },
  {
   "cell_type": "code",
   "execution_count": 10,
   "metadata": {
    "id": "ynzFhyNkc-Qv"
   },
   "outputs": [],
   "source": [
    "def create_clusters(K, X, centroids):\n",
    "    \"\"\"Assign the samples to the closest centroids to create clusters\"\"\"\n",
    "    clusters = [[] for _ in range(K)] # creates a list of K number of lists\n",
    "    for idx, sample in enumerate(X):\n",
    "        centroid_idx = find_closest_centroid(sample, centroids) # find closest centroid for each sample\n",
    "        clusters[centroid_idx].append(idx) # create index list of closest centroids\n",
    "    return clusters"
   ]
  },
  {
   "cell_type": "code",
   "execution_count": 11,
   "metadata": {
    "id": "5or9vgnpdAqx"
   },
   "outputs": [],
   "source": [
    "def find_closest_centroid(sample, centroids):\n",
    "    \"\"\"Distance from each sample to every centroid\"\"\"\n",
    "    distances = [euclidean_distance(sample, point) for point in centroids] # calculate distance from each sample to each centroid\n",
    "    closest_index = np.argmin(distances) # take closest centroid (one with minimal distance)\n",
    "    return closest_index"
   ]
  },
  {
   "cell_type": "code",
   "execution_count": 12,
   "metadata": {
    "id": "BL8I6bUqdDH3"
   },
   "outputs": [],
   "source": [
    "def update_centroids(X, K, n_features, clusters):\n",
    "    \"\"\"Assign mean value of cluster features to each centroid\"\"\"\n",
    "    centroids = np.zeros((K, n_features))\n",
    "    for cluster_idx, cluster in enumerate(clusters):\n",
    "        cluster_mean = np.mean(X[cluster,:], axis=0) # find new centroid by finding mean of all points assigned to centroid\n",
    "        centroids[cluster_idx] = cluster_mean # collect all centroids\n",
    "    return centroids"
   ]
  },
  {
   "cell_type": "code",
   "execution_count": 13,
   "metadata": {
    "id": "ojIQU_I7dGMo"
   },
   "outputs": [],
   "source": [
    "def is_converged(centroids_old, centroids, K):\n",
    "    \"\"\"Check if centroids have changed since last iteration\"\"\"\n",
    "    distances = [euclidean_distance(centroids_old[i], centroids[i]) for i in range(K)] # check distance between old and new centroids\n",
    "    return sum(distances) == 0 # return Boolean indicating whether centroids are the same as before or not"
   ]
  },
  {
   "cell_type": "code",
   "execution_count": 14,
   "metadata": {
    "id": "OIsH4enGckw8"
   },
   "outputs": [],
   "source": [
    "def KMeans_from_scratch(X, K=5, max_iters=100):\n",
    "    \"\"\"Choose a random set of centroids then optimise using above functions\"\"\"\n",
    "    n_samples, n_features = X.shape\n",
    "    \n",
    "    # Initialization \n",
    "    random_sample_idx = np.random.choice(n_samples, K, replace=False) # take random sample points to be initial clusters\n",
    "    centroids = [X[idx] for idx in random_sample_idx] # label these points as centroids\n",
    "\n",
    "    iteration_num = 0 # initialize iteration tracker\n",
    "\n",
    "    # Optimization\n",
    "    for iteration in range(max_iters):\n",
    "        \n",
    "        iteration_num += 1 # track iterations required\n",
    "\n",
    "        clusters = create_clusters(K, X, centroids) # assignment to closest centroids (cluster creation)\n",
    "\n",
    "        centroids_old = centroids # archive previous centroids\n",
    "        centroids = update_centroids(X, K, n_features, clusters) # Updating centroids \n",
    "        \n",
    "        # Convergence Confirmation\n",
    "        if is_converged(centroids_old, centroids, K): # check if last iteration's centroids were the same as current iteration\n",
    "            labels = label_cluster(n_samples, clusters)\n",
    "            dist = [euclidean_distance(X[row_num], centroids[int(labels[row_num])]) for row_num in range(X.shape[0])] # get distance from each point to its centroid\n",
    "            total_dist = np.sum(np.square(dist)) # total distance calculated as sum of squares\n",
    "            break # exit loop since there was no change since last iteration\n",
    "\n",
    "    # Classify samples as the index of their clusters\n",
    "    return labels, iteration_num, K, centroids, total_dist"
   ]
  },
  {
   "cell_type": "code",
   "execution_count": 15,
   "metadata": {
    "id": "C53bNvVIl400"
   },
   "outputs": [],
   "source": [
    "result = KMeans_from_scratch(X, K=2, max_iters=100)"
   ]
  },
  {
   "cell_type": "code",
   "execution_count": 16,
   "metadata": {
    "colab": {
     "base_uri": "https://localhost:8080/",
     "height": 34
    },
    "id": "oaG783ECIWpv",
    "outputId": "c1930acf-5929-4e56-dbd3-74feeb28eb5a"
   },
   "outputs": [
    {
     "name": "stdout",
     "output_type": "stream",
     "text": [
      "No. Iterations: 19 , No. Centres: 2 , Total Squared Distance 84239.16946363819\n"
     ]
    }
   ],
   "source": [
    "print(\"No. Iterations:\", result[1], \", No. Centres:\", result[2], \", Total Squared Distance\", result[4])"
   ]
  },
  {
   "cell_type": "code",
   "execution_count": 17,
   "metadata": {
    "colab": {
     "base_uri": "https://localhost:8080/",
     "height": 84
    },
    "id": "C-KwQjtpEHbl",
    "outputId": "50848225-2d12-4c13-ff9e-f8ba27442de7"
   },
   "outputs": [
    {
     "name": "stdout",
     "output_type": "stream",
     "text": [
      "Centroid Coordinates: [[-3.86460395  0.53445597 -0.63295369 -0.01355069 -1.06072312  0.04271011\n",
      "   0.99795513 -1.24389675 -1.63779097 -0.72212214]\n",
      " [ 0.16792771 -0.52898098 -0.31470149  0.02654275  0.15535038 -0.02623681\n",
      "  -0.56298802  0.23521545 -0.37814253 -0.2589944 ]]\n"
     ]
    }
   ],
   "source": [
    "print(\"Centroid Coordinates:\", result[3]) # these display average value for each feature of the cluster"
   ]
  },
  {
   "cell_type": "markdown",
   "metadata": {
    "id": "PdBezwLheDGy"
   },
   "source": [
    "### kMeans and \"True\" Groups\n",
    "\n",
    "Let's see whether the kMeans function was able to distinguish the groups of y=1 and y=0. kMeans and other clustering algorithms are most often used as unsupervised algorithms. The goal of the algorithm is not necessarily to distinguish between these two groups, but to find some meaningful split in the feature space. This means that the function's clusters may not conform to our previous expectation of how splits should occur as it may focus on features which are actually irrelevant or classes may not be distinct enough. Let's see if our results split on the y=1,0 groups or if the algorithm seems to have split the observations in a different way."
   ]
  },
  {
   "cell_type": "code",
   "execution_count": 18,
   "metadata": {
    "colab": {
     "base_uri": "https://localhost:8080/",
     "height": 34
    },
    "id": "WR9UeYK5IdJF",
    "outputId": "176ca877-a70a-4c26-a494-001b1e85ef0d"
   },
   "outputs": [
    {
     "data": {
      "text/plain": [
       "array([0., 1., 1., 0., 1.])"
      ]
     },
     "execution_count": 18,
     "metadata": {
      "tags": []
     },
     "output_type": "execute_result"
    }
   ],
   "source": [
    "result[0][:5] # classifications according to kMeans from scratch"
   ]
  },
  {
   "cell_type": "code",
   "execution_count": 19,
   "metadata": {
    "colab": {
     "base_uri": "https://localhost:8080/",
     "height": 34
    },
    "id": "WO4zDDnT-Hhy",
    "outputId": "91d3e8c0-a5be-4737-fd5a-bda0d0d894b2"
   },
   "outputs": [
    {
     "data": {
      "text/plain": [
       "array([0, 1, 1, 1, 0])"
      ]
     },
     "execution_count": 19,
     "metadata": {
      "tags": []
     },
     "output_type": "execute_result"
    }
   ],
   "source": [
    "y[:5] # true groups"
   ]
  },
  {
   "cell_type": "code",
   "execution_count": 20,
   "metadata": {
    "colab": {
     "base_uri": "https://localhost:8080/",
     "height": 34
    },
    "id": "6qqxzKWk80b1",
    "outputId": "ed7dd5de-3b40-42aa-87db-72b04858fa20"
   },
   "outputs": [
    {
     "data": {
      "text/plain": [
       "Counter({0.0: 1253, 1.0: 752})"
      ]
     },
     "execution_count": 20,
     "metadata": {
      "tags": []
     },
     "output_type": "execute_result"
    }
   ],
   "source": [
    "from collections import Counter\n",
    "\n",
    "Counter(result[0][y == 1]) # note that there is still a large mix in this group, some features were uninformative, this could be misleading the kMeans function"
   ]
  },
  {
   "cell_type": "code",
   "execution_count": 21,
   "metadata": {
    "colab": {
     "base_uri": "https://localhost:8080/",
     "height": 34
    },
    "id": "MZBoAz-_IPl4",
    "outputId": "b4b1a905-fff1-430a-a39c-60302aa2f19b"
   },
   "outputs": [
    {
     "data": {
      "text/plain": [
       "Counter({0.0: 763, 1.0: 1232})"
      ]
     },
     "execution_count": 21,
     "metadata": {
      "tags": []
     },
     "output_type": "execute_result"
    }
   ],
   "source": [
    "Counter(result[0][y == 0])"
   ]
  },
  {
   "cell_type": "markdown",
   "metadata": {
    "id": "ajXZkotqP5MZ"
   },
   "source": [
    "Let's try to create another dataset which is easier for the kMeans algorithm to determine. We will only include relevant variables and increase class separation. Let's see if we can get the function to do better at getting pure separations based on y values."
   ]
  },
  {
   "cell_type": "code",
   "execution_count": 22,
   "metadata": {
    "id": "8BoWUqghPMFA"
   },
   "outputs": [],
   "source": [
    "X_simple,y_simple = make_classification(n_samples=4000, n_classes=2, n_informative=6, n_features=6, n_redundant=0, class_sep=2, random_state=10) \n",
    "# drop redundant and uninformative features, add more class separation"
   ]
  },
  {
   "cell_type": "code",
   "execution_count": 23,
   "metadata": {
    "id": "Pu27N2CvPa2c"
   },
   "outputs": [],
   "source": [
    "result_simple = KMeans_from_scratch(X_simple, K=2, max_iters=100)"
   ]
  },
  {
   "cell_type": "code",
   "execution_count": 24,
   "metadata": {
    "colab": {
     "base_uri": "https://localhost:8080/",
     "height": 34
    },
    "id": "5owyFHqLPhei",
    "outputId": "9fe3245f-4ddc-42b6-9a26-8838674f9f32"
   },
   "outputs": [
    {
     "data": {
      "text/plain": [
       "Counter({0.0: 4, 1.0: 1989})"
      ]
     },
     "execution_count": 24,
     "metadata": {
      "tags": []
     },
     "output_type": "execute_result"
    }
   ],
   "source": [
    "from collections import Counter\n",
    "\n",
    "Counter(result_simple[0][y_simple == 1]) # much more purity due to simplified dataset"
   ]
  },
  {
   "cell_type": "code",
   "execution_count": 25,
   "metadata": {
    "colab": {
     "base_uri": "https://localhost:8080/",
     "height": 34
    },
    "id": "AnCBbG4PQFc8",
    "outputId": "3abd93c4-b186-4736-ad5f-f5348e9fc00b"
   },
   "outputs": [
    {
     "data": {
      "text/plain": [
       "Counter({0.0: 987, 1.0: 1020})"
      ]
     },
     "execution_count": 25,
     "metadata": {
      "tags": []
     },
     "output_type": "execute_result"
    }
   ],
   "source": [
    "Counter(result_simple[0][y_simple == 0])"
   ]
  },
  {
   "cell_type": "markdown",
   "metadata": {
    "id": "LBLlvv2AIfB1"
   },
   "source": [
    "## Optimal K from Scratch\n",
    "\n",
    "Let's check whether or not this was the optimal number for K. To do this, we can run the algorithm multiple times for different numbers for K. We could then plot the number of K on the x-axis and the total distance on the y-axis of a graph. Wherever we see a bend in the curve (or the elbow) is where we should consider the optimal number. Anything past the bend of the curve would make the model unnecessarily complex. We would be adding more centroids but not really explaining much complexity."
   ]
  },
  {
   "cell_type": "code",
   "execution_count": 26,
   "metadata": {
    "colab": {
     "base_uri": "https://localhost:8080/",
     "height": 151
    },
    "id": "M2jNlBwPn-Bz",
    "outputId": "8f034a85-1a32-4d51-dfd2-9376de4bcd9c"
   },
   "outputs": [
    {
     "data": {
      "text/plain": [
       "[109641.75160463342,\n",
       " 84239.16946363819,\n",
       " 71310.44201020605,\n",
       " 63923.50269951007,\n",
       " 59133.15646042065,\n",
       " 55061.85267705688,\n",
       " 52362.74938545619,\n",
       " 48624.800426405214]"
      ]
     },
     "execution_count": 26,
     "metadata": {
      "tags": []
     },
     "output_type": "execute_result"
    }
   ],
   "source": [
    "list_total_dist = []\n",
    "\n",
    "for i in range(1,9):\n",
    "  results = KMeans_from_scratch(X, K=i, max_iters=100)\n",
    "  list_total_dist.append(results[4])\n",
    "\n",
    "list_total_dist"
   ]
  },
  {
   "cell_type": "code",
   "execution_count": 27,
   "metadata": {
    "colab": {
     "base_uri": "https://localhost:8080/",
     "height": 295
    },
    "id": "8DYEo39PsG8k",
    "outputId": "895246dd-3ed1-4261-8f2b-600dc5d3e98c"
   },
   "outputs": [
    {
     "data": {
      "image/png": "[encoded data removed]",
      "text/plain": [
       "<Figure size 432x288 with 1 Axes>"
      ]
     },
     "metadata": {
      "needs_background": "light",
      "tags": []
     },
     "output_type": "display_data"
    }
   ],
   "source": [
    "plt.plot(range(1,9), list_total_dist)\n",
    "plt.title(\"kMeans Elbow Curve\")\n",
    "plt.ylabel(\"Total Squared Distance\")\n",
    "plt.xlabel(\"K\")\n",
    "plt.show()"
   ]
  },
  {
   "cell_type": "markdown",
   "metadata": {
    "id": "9h1igA87vxUz"
   },
   "source": [
    "# kMeans with sklearn\n",
    "\n",
    "As with the most popular machine learning algorithm, the library sklearn has an easy way to implement the kMeans algorithm. We simply have to import the KMeans function from the sklearn.cluster library.\n",
    "\n",
    "The documentation for this function can be found here: https://scikit-learn.org/stable/modules/generated/sklearn.cluster.KMeans.html. Once you create a KMeans object, you can use many methods and attributes to fit, predict and evaluate your model."
   ]
  },
  {
   "cell_type": "code",
   "execution_count": 28,
   "metadata": {
    "id": "Ngg58FxZNnSJ"
   },
   "outputs": [],
   "source": [
    "from sklearn.cluster import KMeans\n",
    "\n",
    "km = KMeans(n_clusters=2, init='random', n_init=20, max_iter=100, random_state=123) # create KMeans object with certain settings\n",
    "\n",
    "res = km.fit_predict(X) # fit to X and also predict labels of X, not using the easier X_simple"
   ]
  },
  {
   "cell_type": "code",
   "execution_count": 29,
   "metadata": {
    "colab": {
     "base_uri": "https://localhost:8080/",
     "height": 84
    },
    "id": "o5hbvjwaFRY3",
    "outputId": "a8a96bf4-739f-4d42-8722-2f5664196c92"
   },
   "outputs": [
    {
     "data": {
      "text/plain": [
       "array([[-3.88957088,  0.54297154, -0.62676362, -0.01415858, -1.06939376,\n",
       "         0.04172012,  1.01766678, -1.25713602, -1.64826198, -0.71337592],\n",
       "       [ 0.13647809, -0.52259565, -0.32524668,  0.02658543,  0.1469941 ,\n",
       "        -0.02429913, -0.56074168,  0.22771273, -0.38532632, -0.2740814 ]])"
      ]
     },
     "execution_count": 29,
     "metadata": {
      "tags": []
     },
     "output_type": "execute_result"
    }
   ],
   "source": [
    "km.cluster_centers_ # here are the centroids for kMeans, these display average value for each feature of the cluster"
   ]
  },
  {
   "cell_type": "code",
   "execution_count": 30,
   "metadata": {
    "colab": {
     "base_uri": "https://localhost:8080/",
     "height": 34
    },
    "id": "2pwM6iieG269",
    "outputId": "a9928bc1-a49d-4074-f8ff-12a6b25d109d"
   },
   "outputs": [
    {
     "data": {
      "text/plain": [
       "14"
      ]
     },
     "execution_count": 30,
     "metadata": {
      "tags": []
     },
     "output_type": "execute_result"
    }
   ],
   "source": [
    "km.n_iter_ # this is the number of iterations required for stability in this solution"
   ]
  },
  {
   "cell_type": "code",
   "execution_count": 31,
   "metadata": {
    "colab": {
     "base_uri": "https://localhost:8080/",
     "height": 34
    },
    "id": "d3iIlQN5GtsW",
    "outputId": "955d5bfa-4be6-4ffa-8a03-34bc56c4a85d"
   },
   "outputs": [
    {
     "data": {
      "text/plain": [
       "84237.49670907139"
      ]
     },
     "execution_count": 31,
     "metadata": {
      "tags": []
     },
     "output_type": "execute_result"
    }
   ],
   "source": [
    "km.inertia_ # here is a value similar to total distance for the clusters"
   ]
  },
  {
   "cell_type": "code",
   "execution_count": 32,
   "metadata": {
    "colab": {
     "base_uri": "https://localhost:8080/",
     "height": 34
    },
    "id": "ChOU9xgnGoJE",
    "outputId": "6dead0f7-2489-428c-832d-2f530cd2a950"
   },
   "outputs": [
    {
     "data": {
      "text/plain": [
       "array([0, 1, 1, 0, 1, 0, 0, 1, 1, 0], dtype=int32)"
      ]
     },
     "execution_count": 32,
     "metadata": {
      "tags": []
     },
     "output_type": "execute_result"
    }
   ],
   "source": [
    "km.labels_[:10] # here are the labels for each observation from the clustering"
   ]
  },
  {
   "cell_type": "code",
   "execution_count": 33,
   "metadata": {
    "colab": {
     "base_uri": "https://localhost:8080/",
     "height": 34
    },
    "id": "KKFYTdNk_L-_",
    "outputId": "c4484aaf-da9e-482e-8eb3-65e472fb94b3"
   },
   "outputs": [
    {
     "data": {
      "text/plain": [
       "Counter({0: 1236, 1: 769})"
      ]
     },
     "execution_count": 33,
     "metadata": {
      "tags": []
     },
     "output_type": "execute_result"
    }
   ],
   "source": [
    "Counter(km.labels_[y == 1]) # we have a similar level of purity as we had before with the original dataset"
   ]
  },
  {
   "cell_type": "code",
   "execution_count": 34,
   "metadata": {
    "colab": {
     "base_uri": "https://localhost:8080/",
     "height": 34
    },
    "id": "t_oCmTjPFHPW",
    "outputId": "ff9be441-cd48-445b-c585-9ffd0c74752a"
   },
   "outputs": [
    {
     "data": {
      "text/plain": [
       "Counter({0: 752, 1: 1243})"
      ]
     },
     "execution_count": 34,
     "metadata": {
      "tags": []
     },
     "output_type": "execute_result"
    }
   ],
   "source": [
    "Counter(km.labels_[y == 0])"
   ]
  },
  {
   "cell_type": "markdown",
   "metadata": {
    "id": "xoMdrnT5rnKP"
   },
   "source": [
    "### Optimal K in sklearn\n",
    "\n",
    "We can perform the same elbow curve method on sklearn results. The `.inertia_` attribute on a fit kMeans object allows us to see the sum of squared distance between points and their centroid."
   ]
  },
  {
   "cell_type": "code",
   "execution_count": 35,
   "metadata": {
    "colab": {
     "base_uri": "https://localhost:8080/",
     "height": 151
    },
    "id": "4PR63XZXq3jN",
    "outputId": "3065967f-02e8-4ccb-96a2-1a04db3e0a75"
   },
   "outputs": [
    {
     "data": {
      "text/plain": [
       "[109641.75160463343,\n",
       " 84237.51497285561,\n",
       " 71310.2616307047,\n",
       " 63923.9401588115,\n",
       " 58783.86403796937,\n",
       " 54969.955097086335,\n",
       " 51247.95553846268,\n",
       " 48618.29596686946]"
      ]
     },
     "execution_count": 35,
     "metadata": {
      "tags": []
     },
     "output_type": "execute_result"
    }
   ],
   "source": [
    "list_total_dist_sklearn = []\n",
    "\n",
    "for i in range(1,9):\n",
    "  km = KMeans(n_clusters=i, init='random', n_init=10, max_iter=100, random_state=123) # go from 1 to 8 in the value of centroids\n",
    "  res = km.fit_predict(X)\n",
    "  list_total_dist_sklearn.append(km.inertia_) # check how inertia (~total distance) changes as we increase K\n",
    "\n",
    "list_total_dist_sklearn"
   ]
  },
  {
   "cell_type": "code",
   "execution_count": 36,
   "metadata": {
    "colab": {
     "base_uri": "https://localhost:8080/",
     "height": 295
    },
    "id": "cFAKjIO-reEa",
    "outputId": "093dd3f7-d8e8-4fbd-d334-19e9653cc55f"
   },
   "outputs": [
    {
     "data": {
      "image/png": "[encoded data removed]",
      "text/plain": [
       "<Figure size 432x288 with 1 Axes>"
      ]
     },
     "metadata": {
      "needs_background": "light",
      "tags": []
     },
     "output_type": "display_data"
    }
   ],
   "source": [
    "plt.plot(range(1,9), list_total_dist_sklearn) # from this graph, we can see the sharpest bend at 2 again\n",
    "plt.title(\"kMeans Elbow Curve\")\n",
    "plt.ylabel(\"inertia\")\n",
    "plt.xlabel(\"K\")\n",
    "plt.show()"
   ]
  },
  {
   "cell_type": "markdown",
   "metadata": {
    "id": "f8dCvgUXVZcR"
   },
   "source": [
    "Here again, we can see the sharpest kink at K=2. \n",
    "\n"
   ]
  },
  {
   "cell_type": "markdown",
   "metadata": {
    "id": "wkxJUyq4hMWG"
   },
   "source": [
    "# Conclusion\n",
    "\n",
    "kMeans is just one of a few powerful clustering functions whose applications can simplify groups found in data for analysis. While these algorithms can be very powerful, a good understanding of their strengths and weaknesses are critical for an accurate and meaningful analysis of the situation."
   ]
  }
 ],
 "metadata": {
  "colab": {
   "name": "2_nb_descriptive_analytics.ipynb",
   "provenance": []
  },
  "kernelspec": {
   "display_name": "Python 3",
   "language": "python",
   "name": "python3"
  },
  "language_info": {
   "codemirror_mode": {
    "name": "ipython",
    "version": 3
   },
   "file_extension": ".py",
   "mimetype": "text/x-python",
   "name": "python",
   "nbconvert_exporter": "python",
   "pygments_lexer": "ipython3",
   "version": "3.7.7"
  }
 },
 "nbformat": 4,
 "nbformat_minor": 1
}
