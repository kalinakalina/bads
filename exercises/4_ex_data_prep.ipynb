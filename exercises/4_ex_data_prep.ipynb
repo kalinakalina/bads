{
  "nbformat": 4,
  "nbformat_minor": 0,
  "metadata": {
    "kernelspec": {
      "display_name": "PyCharm (VHB-ProDok-Internal)",
      "language": "python",
      "name": "pycharm-e3448bea"
    },
    "language_info": {
      "codemirror_mode": {
        "name": "ipython",
        "version": 3
      },
      "file_extension": ".py",
      "mimetype": "text/x-python",
      "name": "python",
      "nbconvert_exporter": "python",
      "pygments_lexer": "ipython3",
      "version": "3.7.6"
    },
    "colab": {
      "name": "4_ex_data_prep.ipynb",
<<<<<<< HEAD
      "provenance": []
=======
      "provenance": [],
      "collapsed_sections": []
>>>>>>> upstream/master
    }
  },
  "cells": [
    {
      "cell_type": "markdown",
      "metadata": {
<<<<<<< HEAD
        "id": "RVBORUJGC-b1"
=======
        "id": "nmIQkT_sZTzN"
>>>>>>> upstream/master
      },
      "source": [
        "[![Open In Colab](https://colab.research.google.com/assets/colab-badge.svg)](https://colab.research.google.com/github/Humboldt-WI/bads/blob/master/exercises/4_ex_data_prep.ipynb) "
      ]
    },
    {
      "cell_type": "markdown",
      "metadata": {
<<<<<<< HEAD
        "id": "GYmRwK-mC-b2"
      },
      "source": [
        "# BADS Exercise 4 on data preparation\n",
        "This exercise revisit some of the concepts covered in [Tutorial 4 on data preparation](https://github.com/Humboldt-WI/bads/blob/master/tutorials/4_nb_data_preparation.ipynb). That tutorial was rather comprehensive and provided a lot of materials and codes associated with typical tasks in the wide scope of data preparation. Therefore, the exercises will not go beyond [Tutorial 4](https://github.com/Humboldt-WI/bads/blob/master/tutorials/4_nb_data_preparation.ipynb). Rather, we will consider a different data set and repeat some standard data prep. tasks for that data set.   \n",
=======
        "id": "Nf5bQw9lZTzN"
      },
      "source": [
        "# BADS Exercise 4 on data preparation\n",
        "This exercise revisits some of the concepts covered in [Tutorial 4 on data preparation](https://github.com/Humboldt-WI/bads/blob/master/tutorials/4_nb_data_preparation.ipynb). That tutorial was rather comprehensive and provided a lot of materials and codes associated with typical tasks in the wide scope of data preparation. Therefore, the exercises will not go beyond [Tutorial 4](https://github.com/Humboldt-WI/bads/blob/master/tutorials/4_nb_data_preparation.ipynb). Rather, we will consider a different data set and repeat some standard data prep. tasks for that data set.   \n",
>>>>>>> upstream/master
        "\n",
        "## 1 Loading the data \n",
        "The data set for this tutorial comes from the classic Book Credit Scoring and its Applications by Lyn C. Thomas, David B. Edelman, and Jonathan N. Crook. You can obtain the data, called *loan_data* from our [GitHub repository](https://github.com/Humboldt-WI/bads/tree/master/data). The data folder of the repository also provides a file *loan_data_dictionary*, which offers a brief description of the features in this data set. In a nutshell, the data represents yet another vanilla credit scoring task with a binary target variable, indicating whether bank customers repaid their debt or defaulted, and a few features characterizing credit applicants. Your first task is to load the data into a `Pandas DataFrame`."
      ]
    },
    {
      "cell_type": "code",
      "metadata": {
<<<<<<< HEAD
        "id": "i7PTQi90C-b2",
        "outputId": "5bd7a0f4-2e36-44f1-d487-af32dff305de",
        "colab": {
          "base_uri": "https://localhost:8080/",
          "height": 204
        }
      },
      "source": [
        "# imports\n",
        "import numpy as np \n",
        "import seaborn as sns\n",
        "import matplotlib.pyplot as plt\n",
        "import pandas as pd\n",
        "# Load the data (either from disk or directly from the web)\n",
        "df = pd.read_csv('https://raw.githubusercontent.com/Humboldt-WI/bads/master/data/loan_data.csv', sep=';')\n"
      ],
      "execution_count": 13,
      "outputs": [
        {
          "output_type": "execute_result",
          "data": {
            "text/html": [
              "<div>\n",
              "<style scoped>\n",
              "    .dataframe tbody tr th:only-of-type {\n",
              "        vertical-align: middle;\n",
              "    }\n",
              "\n",
              "    .dataframe tbody tr th {\n",
              "        vertical-align: top;\n",
              "    }\n",
              "\n",
              "    .dataframe thead th {\n",
              "        text-align: right;\n",
              "    }\n",
              "</style>\n",
              "<table border=\"1\" class=\"dataframe\">\n",
              "  <thead>\n",
              "    <tr style=\"text-align: right;\">\n",
              "      <th></th>\n",
              "      <th>YOB</th>\n",
              "      <th>nKIDS</th>\n",
              "      <th>nDEP</th>\n",
              "      <th>PHON</th>\n",
              "      <th>dINC_SP</th>\n",
              "      <th>EMPS_A</th>\n",
              "      <th>dINC_A</th>\n",
              "      <th>RES</th>\n",
              "      <th>dHVAL</th>\n",
              "      <th>dMBO</th>\n",
              "      <th>dOUTM</th>\n",
              "      <th>dOUTL</th>\n",
              "      <th>dOUTHP</th>\n",
              "      <th>dOUTCC</th>\n",
              "      <th>BAD</th>\n",
              "    </tr>\n",
              "  </thead>\n",
              "  <tbody>\n",
              "    <tr>\n",
              "      <th>0</th>\n",
              "      <td>19.0</td>\n",
              "      <td>4.0</td>\n",
              "      <td>0.0</td>\n",
              "      <td>1</td>\n",
              "      <td>0.0</td>\n",
              "      <td>R</td>\n",
              "      <td>0.0</td>\n",
              "      <td>O</td>\n",
              "      <td>14464.0</td>\n",
              "      <td>4.0</td>\n",
              "      <td>0.0</td>\n",
              "      <td>0.0</td>\n",
              "      <td>0.0</td>\n",
              "      <td>0.0</td>\n",
              "      <td>0.0</td>\n",
              "    </tr>\n",
              "    <tr>\n",
              "      <th>1</th>\n",
              "      <td>41.0</td>\n",
              "      <td>2.0</td>\n",
              "      <td>0.0</td>\n",
              "      <td>1</td>\n",
              "      <td>0.0</td>\n",
              "      <td>P</td>\n",
              "      <td>36000.0</td>\n",
              "      <td>O</td>\n",
              "      <td>0.0</td>\n",
              "      <td>0.0</td>\n",
              "      <td>280.0</td>\n",
              "      <td>664.0</td>\n",
              "      <td>0.0</td>\n",
              "      <td>80.0</td>\n",
              "      <td>0.0</td>\n",
              "    </tr>\n",
              "    <tr>\n",
              "      <th>2</th>\n",
              "      <td>66.0</td>\n",
              "      <td>0.0</td>\n",
              "      <td>0.0</td>\n",
              "      <td>1</td>\n",
              "      <td>0.0</td>\n",
              "      <td>N</td>\n",
              "      <td>30000.0</td>\n",
              "      <td>N</td>\n",
              "      <td>0.0</td>\n",
              "      <td>0.0</td>\n",
              "      <td>0.0</td>\n",
              "      <td>0.0</td>\n",
              "      <td>0.0</td>\n",
              "      <td>0.0</td>\n",
              "      <td>0.0</td>\n",
              "    </tr>\n",
              "    <tr>\n",
              "      <th>3</th>\n",
              "      <td>51.0</td>\n",
              "      <td>2.0</td>\n",
              "      <td>0.0</td>\n",
              "      <td>1</td>\n",
              "      <td>0.0</td>\n",
              "      <td>P</td>\n",
              "      <td>464.0</td>\n",
              "      <td>O</td>\n",
              "      <td>24928.0</td>\n",
              "      <td>8464.0</td>\n",
              "      <td>584.0</td>\n",
              "      <td>320.0</td>\n",
              "      <td>0.0</td>\n",
              "      <td>60.0</td>\n",
              "      <td>0.0</td>\n",
              "    </tr>\n",
              "    <tr>\n",
              "      <th>4</th>\n",
              "      <td>65.0</td>\n",
              "      <td>0.0</td>\n",
              "      <td>0.0</td>\n",
              "      <td>1</td>\n",
              "      <td>0.0</td>\n",
              "      <td>P</td>\n",
              "      <td>15000.0</td>\n",
              "      <td>P</td>\n",
              "      <td>0.0</td>\n",
              "      <td>0.0</td>\n",
              "      <td>0.0</td>\n",
              "      <td>0.0</td>\n",
              "      <td>0.0</td>\n",
              "      <td>0.0</td>\n",
              "      <td>0.0</td>\n",
              "    </tr>\n",
              "  </tbody>\n",
              "</table>\n",
              "</div>"
            ],
            "text/plain": [
              "    YOB  nKIDS  nDEP  PHON  dINC_SP  ...  dOUTM  dOUTL dOUTHP  dOUTCC  BAD\n",
              "0  19.0    4.0   0.0     1      0.0  ...    0.0    0.0    0.0     0.0  0.0\n",
              "1  41.0    2.0   0.0     1      0.0  ...  280.0  664.0    0.0    80.0  0.0\n",
              "2  66.0    0.0   0.0     1      0.0  ...    0.0    0.0    0.0     0.0  0.0\n",
              "3  51.0    2.0   0.0     1      0.0  ...  584.0  320.0    0.0    60.0  0.0\n",
              "4  65.0    0.0   0.0     1      0.0  ...    0.0    0.0    0.0     0.0  0.0\n",
              "\n",
              "[5 rows x 15 columns]"
            ]
          },
          "metadata": {
            "tags": []
          },
          "execution_count": 13
        }
      ]
=======
        "id": "54Ud3XtqZTzN"
      },
      "source": [
        "# Load the data (either from disk or directly from the web)\n"
      ],
      "execution_count": null,
      "outputs": []
>>>>>>> upstream/master
    },
    {
      "cell_type": "markdown",
      "metadata": {
<<<<<<< HEAD
        "id": "SSwwpkeCC-b3"
=======
        "id": "IlHauiUhZTzO"
>>>>>>> upstream/master
      },
      "source": [
        "By now, you have run through the process of getting a first idea about a new data set many times. You have seen examples in previous tutorials and have written your own codes in, e.g., the third exercise on predictive analytics. Nonetheless, draw once more on your experience and take a quick look into the data.  "
      ]
    },
    {
      "cell_type": "code",
      "metadata": {
<<<<<<< HEAD
        "id": "v1fxaZejC-b3",
        "outputId": "6fbd6e5d-0558-4f9c-9cc9-528ea9d7527b",
        "colab": {
          "base_uri": "https://localhost:8080/"
        }
      },
      "source": [
        "# Some space for any code you want to write to take a first look\n",
        "df.head()"
      ],
      "execution_count": 15,
      "outputs": [
        {
          "output_type": "stream",
          "text": [
            "<class 'pandas.core.frame.DataFrame'>\n",
            "RangeIndex: 1225 entries, 0 to 1224\n",
            "Data columns (total 15 columns):\n",
            " #   Column   Non-Null Count  Dtype  \n",
            "---  ------   --------------  -----  \n",
            " 0   YOB      1225 non-null   float64\n",
            " 1   nKIDS    1225 non-null   float64\n",
            " 2   nDEP     1225 non-null   float64\n",
            " 3   PHON     1225 non-null   int64  \n",
            " 4   dINC_SP  1225 non-null   float64\n",
            " 5   EMPS_A   1225 non-null   object \n",
            " 6   dINC_A   1225 non-null   float64\n",
            " 7   RES      1225 non-null   object \n",
            " 8   dHVAL    1225 non-null   float64\n",
            " 9   dMBO     1225 non-null   float64\n",
            " 10  dOUTM    1225 non-null   float64\n",
            " 11  dOUTL    1225 non-null   float64\n",
            " 12  dOUTHP   1225 non-null   float64\n",
            " 13  dOUTCC   1225 non-null   float64\n",
            " 14  BAD      1225 non-null   float64\n",
            "dtypes: float64(12), int64(1), object(2)\n",
            "memory usage: 143.7+ KB\n"
          ],
          "name": "stdout"
        }
      ]
    },
    {
      "cell_type": "code",
      "metadata": {
        "id": "c6mGLTU9IPr6",
        "outputId": "71e850e5-32ed-40f8-e3a4-f5b528bd3eae",
        "colab": {
          "base_uri": "https://localhost:8080/",
          "height": 297
        }
      },
      "source": [
        "df.describe()"
      ],
      "execution_count": 17,
      "outputs": [
        {
          "output_type": "execute_result",
          "data": {
            "text/html": [
              "<div>\n",
              "<style scoped>\n",
              "    .dataframe tbody tr th:only-of-type {\n",
              "        vertical-align: middle;\n",
              "    }\n",
              "\n",
              "    .dataframe tbody tr th {\n",
              "        vertical-align: top;\n",
              "    }\n",
              "\n",
              "    .dataframe thead th {\n",
              "        text-align: right;\n",
              "    }\n",
              "</style>\n",
              "<table border=\"1\" class=\"dataframe\">\n",
              "  <thead>\n",
              "    <tr style=\"text-align: right;\">\n",
              "      <th></th>\n",
              "      <th>YOB</th>\n",
              "      <th>nKIDS</th>\n",
              "      <th>nDEP</th>\n",
              "      <th>PHON</th>\n",
              "      <th>dINC_SP</th>\n",
              "      <th>dINC_A</th>\n",
              "      <th>dHVAL</th>\n",
              "      <th>dMBO</th>\n",
              "      <th>dOUTM</th>\n",
              "      <th>dOUTL</th>\n",
              "      <th>dOUTHP</th>\n",
              "      <th>dOUTCC</th>\n",
              "      <th>BAD</th>\n",
              "    </tr>\n",
              "  </thead>\n",
              "  <tbody>\n",
              "    <tr>\n",
              "      <th>count</th>\n",
              "      <td>1225.000000</td>\n",
              "      <td>1225.000000</td>\n",
              "      <td>1225.000000</td>\n",
              "      <td>1225.000000</td>\n",
              "      <td>1225.000000</td>\n",
              "      <td>1225.000000</td>\n",
              "      <td>1225.000000</td>\n",
              "      <td>1225.000000</td>\n",
              "      <td>1225.000000</td>\n",
              "      <td>1225.000000</td>\n",
              "      <td>1225.000000</td>\n",
              "      <td>1225.000000</td>\n",
              "      <td>1225.000000</td>\n",
              "    </tr>\n",
              "    <tr>\n",
              "      <th>mean</th>\n",
              "      <td>51.037551</td>\n",
              "      <td>0.623673</td>\n",
              "      <td>0.038367</td>\n",
              "      <td>0.903673</td>\n",
              "      <td>1990.084898</td>\n",
              "      <td>21244.211429</td>\n",
              "      <td>15693.857959</td>\n",
              "      <td>11225.691429</td>\n",
              "      <td>342.004898</td>\n",
              "      <td>121.926531</td>\n",
              "      <td>28.721633</td>\n",
              "      <td>39.595102</td>\n",
              "      <td>0.263673</td>\n",
              "    </tr>\n",
              "    <tr>\n",
              "      <th>std</th>\n",
              "      <td>15.301818</td>\n",
              "      <td>1.016013</td>\n",
              "      <td>0.219917</td>\n",
              "      <td>0.295159</td>\n",
              "      <td>4802.341425</td>\n",
              "      <td>15896.207986</td>\n",
              "      <td>20736.331833</td>\n",
              "      <td>18889.207107</td>\n",
              "      <td>427.993865</td>\n",
              "      <td>839.639588</td>\n",
              "      <td>119.324084</td>\n",
              "      <td>168.697101</td>\n",
              "      <td>0.440804</td>\n",
              "    </tr>\n",
              "    <tr>\n",
              "      <th>min</th>\n",
              "      <td>3.000000</td>\n",
              "      <td>0.000000</td>\n",
              "      <td>0.000000</td>\n",
              "      <td>0.000000</td>\n",
              "      <td>0.000000</td>\n",
              "      <td>0.000000</td>\n",
              "      <td>0.000000</td>\n",
              "      <td>0.000000</td>\n",
              "      <td>0.000000</td>\n",
              "      <td>0.000000</td>\n",
              "      <td>0.000000</td>\n",
              "      <td>0.000000</td>\n",
              "      <td>0.000000</td>\n",
              "    </tr>\n",
              "    <tr>\n",
              "      <th>25%</th>\n",
              "      <td>42.000000</td>\n",
              "      <td>0.000000</td>\n",
              "      <td>0.000000</td>\n",
              "      <td>1.000000</td>\n",
              "      <td>0.000000</td>\n",
              "      <td>9000.000000</td>\n",
              "      <td>0.000000</td>\n",
              "      <td>0.000000</td>\n",
              "      <td>0.000000</td>\n",
              "      <td>0.000000</td>\n",
              "      <td>0.000000</td>\n",
              "      <td>0.000000</td>\n",
              "      <td>0.000000</td>\n",
              "    </tr>\n",
              "    <tr>\n",
              "      <th>50%</th>\n",
              "      <td>55.000000</td>\n",
              "      <td>0.000000</td>\n",
              "      <td>0.000000</td>\n",
              "      <td>1.000000</td>\n",
              "      <td>0.000000</td>\n",
              "      <td>19500.000000</td>\n",
              "      <td>0.000000</td>\n",
              "      <td>0.000000</td>\n",
              "      <td>256.000000</td>\n",
              "      <td>0.000000</td>\n",
              "      <td>0.000000</td>\n",
              "      <td>0.000000</td>\n",
              "      <td>0.000000</td>\n",
              "    </tr>\n",
              "    <tr>\n",
              "      <th>75%</th>\n",
              "      <td>63.000000</td>\n",
              "      <td>1.000000</td>\n",
              "      <td>0.000000</td>\n",
              "      <td>1.000000</td>\n",
              "      <td>1040.000000</td>\n",
              "      <td>30600.000000</td>\n",
              "      <td>28928.000000</td>\n",
              "      <td>20000.000000</td>\n",
              "      <td>528.000000</td>\n",
              "      <td>0.000000</td>\n",
              "      <td>0.000000</td>\n",
              "      <td>0.000000</td>\n",
              "      <td>1.000000</td>\n",
              "    </tr>\n",
              "    <tr>\n",
              "      <th>max</th>\n",
              "      <td>99.000000</td>\n",
              "      <td>5.000000</td>\n",
              "      <td>2.000000</td>\n",
              "      <td>1.000000</td>\n",
              "      <td>50000.000000</td>\n",
              "      <td>64800.000000</td>\n",
              "      <td>64928.000000</td>\n",
              "      <td>64000.000000</td>\n",
              "      <td>3800.000000</td>\n",
              "      <td>28000.000000</td>\n",
              "      <td>1600.000000</td>\n",
              "      <td>2800.000000</td>\n",
              "      <td>1.000000</td>\n",
              "    </tr>\n",
              "  </tbody>\n",
              "</table>\n",
              "</div>"
            ],
            "text/plain": [
              "               YOB        nKIDS  ...       dOUTCC          BAD\n",
              "count  1225.000000  1225.000000  ...  1225.000000  1225.000000\n",
              "mean     51.037551     0.623673  ...    39.595102     0.263673\n",
              "std      15.301818     1.016013  ...   168.697101     0.440804\n",
              "min       3.000000     0.000000  ...     0.000000     0.000000\n",
              "25%      42.000000     0.000000  ...     0.000000     0.000000\n",
              "50%      55.000000     0.000000  ...     0.000000     0.000000\n",
              "75%      63.000000     1.000000  ...     0.000000     1.000000\n",
              "max      99.000000     5.000000  ...  2800.000000     1.000000\n",
              "\n",
              "[8 rows x 13 columns]"
            ]
          },
          "metadata": {
            "tags": []
          },
          "execution_count": 17
        }
      ]
    },
    {
      "cell_type": "code",
      "metadata": {
        "id": "OAfaVOFIIY68",
        "outputId": "17c94c64-7c13-4160-bcf4-fc0efb4d139e",
        "colab": {
          "base_uri": "https://localhost:8080/"
        }
      },
      "source": [
        "df.info()"
      ],
      "execution_count": 18,
      "outputs": [
        {
          "output_type": "stream",
          "text": [
            "<class 'pandas.core.frame.DataFrame'>\n",
            "RangeIndex: 1225 entries, 0 to 1224\n",
            "Data columns (total 15 columns):\n",
            " #   Column   Non-Null Count  Dtype  \n",
            "---  ------   --------------  -----  \n",
            " 0   YOB      1225 non-null   float64\n",
            " 1   nKIDS    1225 non-null   float64\n",
            " 2   nDEP     1225 non-null   float64\n",
            " 3   PHON     1225 non-null   int64  \n",
            " 4   dINC_SP  1225 non-null   float64\n",
            " 5   EMPS_A   1225 non-null   object \n",
            " 6   dINC_A   1225 non-null   float64\n",
            " 7   RES      1225 non-null   object \n",
            " 8   dHVAL    1225 non-null   float64\n",
            " 9   dMBO     1225 non-null   float64\n",
            " 10  dOUTM    1225 non-null   float64\n",
            " 11  dOUTL    1225 non-null   float64\n",
            " 12  dOUTHP   1225 non-null   float64\n",
            " 13  dOUTCC   1225 non-null   float64\n",
            " 14  BAD      1225 non-null   float64\n",
            "dtypes: float64(12), int64(1), object(2)\n",
            "memory usage: 143.7+ KB\n"
          ],
          "name": "stdout"
        }
      ]
=======
        "id": "LSvtKE1hZTzO"
      },
      "source": [
        "# Some space for any code you want to write to take a first look\n"
      ],
      "execution_count": null,
      "outputs": []
>>>>>>> upstream/master
    },
    {
      "cell_type": "markdown",
      "metadata": {
<<<<<<< HEAD
        "id": "WGIRcl22C-b3"
=======
        "id": "86a0L4iMZTzO"
>>>>>>> upstream/master
      },
      "source": [
        "## 2 Data types\n",
        "You can tell from the data dictionary that the loan data includes numeric and categorical variables. Draw on the examples from [Tutorial 4](https://github.com/Humboldt-WI/bads/blob/master/tutorials/4_nb_data_preparation.ipynb) and make sure that all numeric features are stored as `float32` and all categorical features are stored as categories in your DataFame"
      ]
    },
    {
      "cell_type": "code",
      "metadata": {
<<<<<<< HEAD
        "id": "05JmX2tBC-b3",
        "outputId": "b9019ebf-9555-4b2b-feb6-55dbf3719d90",
        "colab": {
          "base_uri": "https://localhost:8080/"
        }
      },
      "source": [
        "# Conversion of data types where needed\n",
        "#print(df.EMPS_A.value_counts()) # multinomial\n",
        "#print(df.RES.value_counts()) # multinomial\n",
        "\n",
        "df['EMPS_A'] = df['EMPS_A'].astype('category')\n",
        "df['RES'] = df['RES'].astype('category')\n",
        "\n",
        "df['PHON'] = df['PHON'].astype(np.float64)\n",
        "num_vars = df.select_dtypes(include=np.float64).columns\n",
        "df[num_vars] = df[num_vars].astype(np.float32)\n",
        "print(df.info())"
      ],
      "execution_count": 23,
      "outputs": [
        {
          "output_type": "stream",
          "text": [
            "<class 'pandas.core.frame.DataFrame'>\n",
            "RangeIndex: 1225 entries, 0 to 1224\n",
            "Data columns (total 15 columns):\n",
            " #   Column   Non-Null Count  Dtype   \n",
            "---  ------   --------------  -----   \n",
            " 0   YOB      1225 non-null   float32 \n",
            " 1   nKIDS    1225 non-null   float32 \n",
            " 2   nDEP     1225 non-null   float32 \n",
            " 3   PHON     1225 non-null   float32 \n",
            " 4   dINC_SP  1225 non-null   float32 \n",
            " 5   EMPS_A   1225 non-null   category\n",
            " 6   dINC_A   1225 non-null   float32 \n",
            " 7   RES      1225 non-null   category\n",
            " 8   dHVAL    1225 non-null   float32 \n",
            " 9   dMBO     1225 non-null   float32 \n",
            " 10  dOUTM    1225 non-null   float32 \n",
            " 11  dOUTL    1225 non-null   float32 \n",
            " 12  dOUTHP   1225 non-null   float32 \n",
            " 13  dOUTCC   1225 non-null   float32 \n",
            " 14  BAD      1225 non-null   float32 \n",
            "dtypes: category(2), float32(13)\n",
            "memory usage: 65.3 KB\n",
            "None\n"
          ],
          "name": "stdout"
        }
      ]
    },
    {
      "cell_type": "code",
      "metadata": {
        "id": "t83VeYO9M8b6",
        "outputId": "223766bb-5659-4f71-945f-b9fcc1b9bfcd",
        "colab": {
          "base_uri": "https://localhost:8080/"
        }
      },
      "source": [
        "df['BAD'] = df['BAD'].astype('bool')\n",
        "print(df.info())"
      ],
      "execution_count": 26,
      "outputs": [
        {
          "output_type": "stream",
          "text": [
            "<class 'pandas.core.frame.DataFrame'>\n",
            "RangeIndex: 1225 entries, 0 to 1224\n",
            "Data columns (total 15 columns):\n",
            " #   Column   Non-Null Count  Dtype   \n",
            "---  ------   --------------  -----   \n",
            " 0   YOB      1225 non-null   float32 \n",
            " 1   nKIDS    1225 non-null   float32 \n",
            " 2   nDEP     1225 non-null   float32 \n",
            " 3   PHON     1225 non-null   float32 \n",
            " 4   dINC_SP  1225 non-null   float32 \n",
            " 5   EMPS_A   1225 non-null   category\n",
            " 6   dINC_A   1225 non-null   float32 \n",
            " 7   RES      1225 non-null   category\n",
            " 8   dHVAL    1225 non-null   float32 \n",
            " 9   dMBO     1225 non-null   float32 \n",
            " 10  dOUTM    1225 non-null   float32 \n",
            " 11  dOUTL    1225 non-null   float32 \n",
            " 12  dOUTHP   1225 non-null   float32 \n",
            " 13  dOUTCC   1225 non-null   float32 \n",
            " 14  BAD      1225 non-null   bool    \n",
            "dtypes: bool(1), category(2), float32(12)\n",
            "memory usage: 61.7 KB\n",
            "None\n"
          ],
          "name": "stdout"
        }
      ]
=======
        "id": "reOczUdlZTzO"
      },
      "source": [
        "# Conversion of data types where needed\n"
      ],
      "execution_count": null,
      "outputs": []
>>>>>>> upstream/master
    },
    {
      "cell_type": "markdown",
      "metadata": {
<<<<<<< HEAD
        "id": "Mkq9t7f8C-b3"
=======
        "id": "VBHdKZhVZTzO"
>>>>>>> upstream/master
      },
      "source": [
        "## EDA\n",
        "### 3.1 Histogram\n",
        "The data includes a feature dINC_A, which captures the income of a credit applicant. We would expect that this feature is related to our target variable, which is called BAD in the data set. \n",
        "\n",
        "Create a histogram plot of the income feature and examine its distribution."
      ]
    },
    {
      "cell_type": "code",
      "metadata": {
<<<<<<< HEAD
        "id": "ZYcEzukSC-b3",
        "outputId": "0e73bd95-2051-4eec-ee1e-e93c9d4f9ce3",
        "colab": {
          "base_uri": "https://localhost:8080/",
          "height": 369
        }
      },
      "source": [
        "# Histogram of dINC_A \n",
        "\n",
        "sns.displot(df.dINC_A,  kde=True);\n"
      ],
      "execution_count": 35,
      "outputs": [
        {
          "output_type": "display_data",
          "data": {
            "image/png": "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\n",
            "text/plain": [
              "<Figure size 360x360 with 1 Axes>"
            ]
          },
          "metadata": {
            "tags": [],
            "needs_background": "light"
          }
        }
      ]
=======
        "id": "TOrcl7obZTzO"
      },
      "source": [
        "# Histogram of dINC_A \n",
        "\n"
      ],
      "execution_count": null,
      "outputs": []
>>>>>>> upstream/master
    },
    {
      "cell_type": "markdown",
      "metadata": {
<<<<<<< HEAD
        "id": "nrXIybdYC-b3"
=======
        "id": "RA2E41Q-ZTzO"
>>>>>>> upstream/master
      },
      "source": [
        "The distribution reveals some potentially important insights. However, the histogram alone does not suffice to check our intuition that income and credit risk are related. To that end, let's examine the income distribution across good and bad credit applications.\n",
        "\n",
        "### 3.2 Analysis of the dependency between applicants' income and credit risk\n",
        "We begin with a manual approach, which also allows us to revisit logical indexing in Python and Pandas. Calculate the average income of a credit applicant for good risks and for bad risks."
      ]
    },
    {
      "cell_type": "code",
      "metadata": {
<<<<<<< HEAD
        "id": "onQ_0jPyC-b3"
=======
        "id": "ozLSHlVOZTzO"
>>>>>>> upstream/master
      },
      "source": [
        "# Calculate the group-wise mean of dINC_A for good and bad risks using logical indexing\n"
      ],
      "execution_count": null,
      "outputs": []
    },
    {
      "cell_type": "markdown",
      "metadata": {
<<<<<<< HEAD
        "id": "XRHtzIlCC-b3"
      },
      "source": [
        "Remember that the Pandas function `value_counts()` allows you to perform an analysis similar to your above calculation of the group-wise means. Replicate the previous calculation using `value_counts()`.  "
=======
        "id": "1BGB_zEbZTzO"
      },
      "source": [
        "Remember that the Pandas function `groupby()` allows you to perform an analysis similar to your above calculation of the group-wise means. Replicate the previous calculation using `groupby()`.  "
>>>>>>> upstream/master
      ]
    },
    {
      "cell_type": "code",
      "metadata": {
<<<<<<< HEAD
        "id": "QKaJOthSC-b3"
      },
      "source": [
        "# Function value_counts()\n"
=======
        "id": "Hw0DEqzbZTzO"
      },
      "source": [
        "# Function groupby()\n"
>>>>>>> upstream/master
      ],
      "execution_count": null,
      "outputs": []
    },
    {
      "cell_type": "markdown",
      "metadata": {
<<<<<<< HEAD
        "id": "x_IGE6f9C-b4"
=======
        "id": "iX1sCedMZTzO"
>>>>>>> upstream/master
      },
      "source": [
        "Next, we perform a graphical analysis. Depict the distribution of the income of customers with a good and bad risk, respectively, by means of a box-plot."
      ]
    },
    {
      "cell_type": "code",
      "metadata": {
<<<<<<< HEAD
        "id": "38W2_vxzC-b4"
=======
        "id": "0InCH1Z_ZTzP"
>>>>>>> upstream/master
      },
      "source": [
        "# Box plot\n"
      ],
      "execution_count": null,
      "outputs": []
    },
    {
      "cell_type": "markdown",
      "metadata": {
<<<<<<< HEAD
        "id": "CpMU4IABC-b4"
=======
        "id": "zqci-rUtZTzP"
>>>>>>> upstream/master
      },
      "source": [
        "### 3.3 Statistical testing\n",
        "Identify an appropriate statistical test to verify whether the observed income difference between good and bad applicants is statistically significant. Perform the test and display its results. Hint: A web-search similar to “statistical test difference in means python” will help."
      ]
    },
    {
      "cell_type": "code",
      "metadata": {
<<<<<<< HEAD
        "id": "NX7QWzPNC-b4"
=======
        "id": "G-tpjC8SZTzP"
>>>>>>> upstream/master
      },
      "source": [
        "# Statistical testing of mean differences"
      ],
      "execution_count": null,
      "outputs": []
    },
    {
      "cell_type": "markdown",
      "metadata": {
<<<<<<< HEAD
        "id": "HzA0WBP3C-b5"
=======
        "id": "KYi1_apnZTzP"
>>>>>>> upstream/master
      },
      "source": [
        ""
      ]
    },
    {
      "cell_type": "markdown",
      "metadata": {
<<<<<<< HEAD
        "id": "FzLdndCKC-b5"
=======
        "id": "CoStoQjjZTzP"
>>>>>>> upstream/master
      },
      "source": [
        "### 3.4 Categorical variables\n",
        "The data set comprises three categorical features. The feature PHON is binary and will not cause any issues. The features EMPS_A and RES are more interesting. Remember to check the data dictionary to understand what information the features encode. \n",
        "\n",
        "In the lecture, we explained that categorical features are typically encoded using dummy variables prior to applying an analytical model. Python supports dummy coding in several ways.  Pandas offers a function `get_dummies()` and sklearn offer a class `OneHotEncoder()`. The Pandas approach is maybe a bit easier to use. The more prevalent approach in practice is to rely on sklearn. \n",
        "\n",
        "Check the documentation of one or both of the above functions. Then create dummy variables for the feature RES and add them to your DataFrame.   "
      ]
    },
    {
      "cell_type": "code",
      "metadata": {
<<<<<<< HEAD
        "id": "I_gnA8oPC-b5"
=======
        "id": "sGRN72W0ZTzP"
>>>>>>> upstream/master
      },
      "source": [
        "# Dummy coding of RES\n"
      ],
      "execution_count": null,
      "outputs": []
    },
    {
      "cell_type": "markdown",
      "metadata": {
<<<<<<< HEAD
        "id": "4w2UG5xbC-b5"
=======
        "id": "vO38EkoKZTzP"
>>>>>>> upstream/master
      },
      "source": [
        "The feature EMPS_A has more distinct levels. Considering the previous task, it is obvious that dummy coding the feature will increase dimensionality substantially. To avoid this, it makes sense to **regroup** the category levels prior to dummy coding. \n",
        "\n",
        "In the lecture on data preparation, we argued that a pivot table helps to identify category levels that we can merge. Specifically, we were recommending merging category levels for which the odds-ratio (i.e., the ratio of goods to bads) is similar. Write code to calculate the odds ratio for each level of the feature EMPS_A"
      ]
    },
    {
<<<<<<< HEAD
      "cell_type": "markdown",
      "metadata": {
        "id": "6eNSjxEIC-b5"
      },
      "source": [
        "# Well done. You did great in solving all the exercises!"
      ]
    },
    {
      "cell_type": "code",
      "metadata": {
        "id": "NjV3cO92C-b5"
=======
      "cell_type": "code",
      "metadata": {
        "id": "agPvI8ejZTzP"
>>>>>>> upstream/master
      },
      "source": [
        "# Calculation of the odds-ratio for EMPS_A\n"
      ],
      "execution_count": null,
      "outputs": []
    },
    {
      "cell_type": "markdown",
      "metadata": {
<<<<<<< HEAD
        "id": "HCuVbKaeC-b5"
=======
        "id": "93iA4QJkZTzP"
>>>>>>> upstream/master
      },
      "source": [
        "Now merge some category levels based on your solution to the previous task.  "
      ]
    },
    {
      "cell_type": "code",
      "metadata": {
<<<<<<< HEAD
        "id": "v88rQqQEC-b5"
=======
        "id": "CeKKvupOZTzP"
>>>>>>> upstream/master
      },
      "source": [
        "# Merge category levels from EMPS_A\n"
      ],
      "execution_count": null,
      "outputs": []
    },
    {
      "cell_type": "markdown",
      "metadata": {
<<<<<<< HEAD
        "id": "42544qYGC-b5"
=======
        "id": "mR6iSiTPZTzP"
>>>>>>> upstream/master
      },
      "source": [
        "The advantage of merging category levels is that we need less dummy variables for encoding the feature. On the other hand, by reducing category levels, we run the risk of losing information. It would make sense to check that our previous merging of category levels did not hurt, e.g., was not too aggressive. Why aggressive? Well, imagine you merge all category levels into one level. This would render the feature useless. So there is a trade-off between having few levels, to not increase dimensionality, and not having too few levels, to sustain the information in the feature for distinguishing good and bad applicants. To find a healthy balance between these conflicting objectives, we need a measure that tells us whether a grouping is informative. It turns out that a well-known statistical test, namely the $\\chi^2$ test, provides this functionality. \n",
        "- Run a quick web search to revisit the $\\chi^2$ test and understand how it is useful for judging a grouping of EMPS_A in our context.\n",
        "- Identify a way to calculate the $\\chi^2$ test statistic in Python\n",
        "- Calculate the test statistic for the original version of EMPS_A with 11 levels and the new version with less levels (i.e., solution to previous task)\n",
<<<<<<< HEAD
        "- Based on the results, conclude which encoding of EMPS_A is more suitable. \n"
=======
        "- Interpret the results and conclude whether your encoding of EMPS_A is suitable\n",
        "\n",
        "*HINT:* When merging categories, you should expect $\\chi^2$ test statistic to decrease unless the merged categories have exactly the same odds ratio. When deciding how many (and which) categories to merge, we should balance two conflicting objectives and try reducing the number of categories such that not too much information is lost. When fixing the number of categories, you can use the $\\chi^2$ test to compare competing encodings to select the one that preserves the most information. Play around with different ways to merge categories and try to select the one that achieves a good balance."
>>>>>>> upstream/master
      ]
    },
    {
      "cell_type": "code",
      "metadata": {
<<<<<<< HEAD
        "id": "9sZfmu1pC-b5"
=======
        "id": "j1zQGSStZTzP"
>>>>>>> upstream/master
      },
      "source": [
        "# Chi^2 testing\n"
      ],
      "execution_count": null,
      "outputs": []
    },
    {
      "cell_type": "markdown",
      "metadata": {
<<<<<<< HEAD
        "id": "JKq9I2QPC-b5"
      },
      "source": [
        "**Optional**\n",
        "By solving the previous task, you created a rather powerful mechanism to regroup categorical variables and optimize the number of levels prior to applying dummy coding. Write a function that wraps-up this functionality. In particular, your function should:\n",
        "- receive a categorical variable as input\n",
        "- check that the variable is actually a category\n",
        "- determine the number of unique levels\n",
        "- iteratively reduce the number of levels by \n",
        "  - calculating the odds-ratio of all current levels\n",
        "  - and merging the two levels whose odds ratio is most similar\n",
        "  - calculate the $\\chi^2$ statistic for the current grouping and store its value\n",
        "- Identify the best grouping of the categorical variable"
=======
        "id": "kDLUEmYaZTzP"
      },
      "source": [
        "# Well done. You did great in solving all the exercises!"
      ]
    },
    {
      "cell_type": "markdown",
      "metadata": {
        "id": "eqxmKIBHZTzP"
      },
      "source": [
        "**Optional**\n",
        "By solving the previous task, you have created a rather powerful mechanism to regroup categorical variables and judge the predictive power of the encoding prior to applying dummy coding. Write a function that wraps-up this functionality. In particular, your function should:\n",
        "- receive a categorical variable as input\n",
        "- check that the variable is actually a category\n",
        "- determine the number of unique levels\n",
        "- iteratively reduce the number of levels by:\n",
        "  - calculating the odds-ratio of all current levels\n",
        "  - merging the two levels whose odds ratio is most similar\n",
        "  - calculating the $\\chi^2$ statistic for the current grouping and store its value\n",
        "- plot the elbow curve for the $\\chi^2$ statistic against the number of levels\n",
        "- display the optimal encoding for each number of levels\n",
        "\n",
        "*HINT:* recall the elbow curve showing relationship between the distance and the number of clusters that we plotted in [Tutorial 2](https://github.com/Humboldt-WI/bads/blob/master/tutorials/2_nb_descriptive_analytics.ipynb). Your function should output a similar graph.\n",
        "\n",
        "Finally, check your implementation by applying the function to EMPS_A and interpreting the results.\n",
        "\n",
        "Note that the described procedure mimics the logic behind the [CHAID tree](https://towardsdatascience.com/clearly-explained-top-2-types-of-decision-trees-chaid-cart-8695e441e73e), which is a tree-based supervised learning algorithm that finds feature splits based on the $\\chi^2$ statistic. When pruning the CHAID tree, feature splits with the lowest value of the $\\chi^2$ statistic are removed, which is similar to what we do when merging categories such that the drop in the $\\chi^2$ statistic value is as small as possible. In the next turorials, you will learn more about tree-based algorithms and implement a decision tree from scratch. Solving this exercise will help you to make a step towards a better understanding of the principles of these learning algorithms."
>>>>>>> upstream/master
      ]
    },
    {
      "cell_type": "code",
      "metadata": {
<<<<<<< HEAD
        "id": "OkAT9cUGC-b5"
      },
      "source": [
        "# Solution to the optional task\n",
        "def optimize_grouping(x):\n",
        "    \n",
        "    "
=======
        "id": "zgTqNdOGZTzP"
      },
      "source": [
        "# Solution to the optional task\n",
        "def optimize_grouping(cat_feature):    \n",
        "    return"
>>>>>>> upstream/master
      ],
      "execution_count": null,
      "outputs": []
    }
  ]
}